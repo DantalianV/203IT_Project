{
 "cells": [
  {
   "cell_type": "markdown",
   "id": "fc60f08e",
   "metadata": {},
   "source": [
    "# Diffe Hellman Implementation"
   ]
  },
  {
   "cell_type": "code",
   "execution_count": 1,
   "id": "d87b2a1f",
   "metadata": {},
   "outputs": [
    {
     "name": "stdout",
     "output_type": "stream",
     "text": [
      "The Value of P is :13931\n",
      "The Value of G is :123\n",
      "The Private Key a for Alice is :4\n",
      "The Private Key b for Bob is :3\n",
      "Secret key for the Alice is : 3202\n",
      "Secret Key for the Bob is : 3202\n"
     ]
    }
   ],
   "source": [
    "from random import randint\n",
    "\n",
    "if __name__ == '__main__':\n",
    "\n",
    "\t# Both the persons will be agreed upon the\n",
    "\t# public keys G and P\n",
    "\t# A prime number P is taken\n",
    "\tP = 13931\n",
    "\t\n",
    "\t# A primitive root for P, G is taken\n",
    "\tG = 123\n",
    "\t\n",
    "\t\n",
    "\tprint('The Value of P is :%d'%(P))\n",
    "\tprint('The Value of G is :%d'%(G))\n",
    "\t\n",
    "\t# Alice will choose the private key a\n",
    "\ta = 4\n",
    "\tprint('The Private Key a for Alice is :%d'%(a))\n",
    "\t\n",
    "\t# gets the generated key\n",
    "\tx = int(pow(G,a,P))\n",
    "\t\n",
    "\t# Bob will choose the private key b\n",
    "\tb = 3\n",
    "\tprint('The Private Key b for Bob is :%d'%(b))\n",
    "\t\n",
    "\t# gets the generated key\n",
    "\ty = int(pow(G,b,P))\n",
    "\t\n",
    "\t\n",
    "\t# Secret key for Alice\n",
    "\tka = int(pow(y,a,P))\n",
    "\t\n",
    "\t# Secret key for Bob\n",
    "\tkb = int(pow(x,b,P))\n",
    "\t\n",
    "\tprint('Secret key for the Alice is : %d'%(ka))\n",
    "\tprint('Secret Key for the Bob is : %d'%(kb))"
   ]
  },
  {
   "cell_type": "markdown",
   "id": "fd011089",
   "metadata": {},
   "source": [
    "# MiTM Attack\n",
    "Man in the Middle Attack on Diffe Hellman"
   ]
  },
  {
   "cell_type": "code",
   "execution_count": 2,
   "id": "8f7ccf65",
   "metadata": {},
   "outputs": [
    {
     "name": "stdout",
     "output_type": "stream",
     "text": [
      "Alice selected (a) : 8952\n",
      "Bob selected (b) : 7399\n",
      "Eve selectd private number for Alice (c) : 13042\n",
      "Eve selectd private number for Bob (d) : 3152\n",
      "Alice published (ga): 4604\n",
      "Bob published (gb): 12427\n",
      "Eve published value for Alice (gc): 1783\n",
      "Eve published value for Bob (gd): 2162\n",
      "Alice computed (S1) : 45\n",
      "Eve computed key for Alice (S1) : 45\n",
      "Bob computed (S2) : 13648\n",
      "Eve computed key for Bob (S2) : 13648\n"
     ]
    }
   ],
   "source": [
    "import random\n",
    "\n",
    "# public keys are taken\n",
    "# p is a prime number\n",
    "# g is a primitive root of p\n",
    "p = 13931\n",
    "g = 123\n",
    "\n",
    "\n",
    "class A:\n",
    "\tdef __init__(self):\n",
    "\t\t# Generating a random private number selected by alice\n",
    "\t\tself.n = random.randint(1, p)\t\n",
    "\n",
    "\tdef publish(self):\n",
    "\t\t# generating public values\n",
    "\t\treturn (g**self.n)%p\n",
    "\n",
    "\tdef compute_secret(self, gb):\n",
    "\t\t# computing secret key\n",
    "\t\treturn (gb**self.n)%p\n",
    "\n",
    "\n",
    "class B:\n",
    "\tdef __init__(self):\n",
    "\t\t# Generating a random private number selected for alice\n",
    "\t\tself.a = random.randint(1, p)\n",
    "\t\t# Generating a random private number selected for bob\n",
    "\t\tself.b = random.randint(1, p)\n",
    "\t\tself.arr = [self.a,self.b]\n",
    "\n",
    "\tdef publish(self, i):\n",
    "\t\t# generating public values\n",
    "\t\treturn (g**self.arr[i])%p\n",
    "\n",
    "\tdef compute_secret(self, ga, i):\n",
    "\t\t# computing secret key\n",
    "\t\treturn (ga**self.arr[i])%p\n",
    "\n",
    "\n",
    "alice = A()\n",
    "bob = A()\n",
    "eve = B()\n",
    "\n",
    "# Printing out the private selected number by Alice and Bob\n",
    "print(f'Alice selected (a) : {alice.n}')\n",
    "print(f'Bob selected (b) : {bob.n}')\n",
    "print(f'Eve selectd private number for Alice (c) : {eve.a}')\n",
    "print(f'Eve selectd private number for Bob (d) : {eve.b}')\n",
    "\n",
    "# Generating public values\n",
    "ga = alice.publish()\n",
    "gb = bob.publish()\n",
    "gea = eve.publish(0)\n",
    "geb = eve.publish(1)\n",
    "print(f'Alice published (ga): {ga}')\n",
    "print(f'Bob published (gb): {gb}')\n",
    "print(f'Eve published value for Alice (gc): {gea}')\n",
    "print(f'Eve published value for Bob (gd): {geb}')\n",
    "\n",
    "# Computing the secret key\n",
    "sa = alice.compute_secret(gea)\n",
    "sea = eve.compute_secret(ga,0)\n",
    "sb = bob.compute_secret(geb)\n",
    "seb = eve.compute_secret(gb,1)\n",
    "print(f'Alice computed (S1) : {sa}')\n",
    "print(f'Eve computed key for Alice (S1) : {sea}')\n",
    "print(f'Bob computed (S2) : {sb}')\n",
    "print(f'Eve computed key for Bob (S2) : {seb}')"
   ]
  },
  {
   "cell_type": "markdown",
   "id": "3a55c395",
   "metadata": {},
   "source": [
    "# ECDSA\n",
    "Elliptic Curve Digital Signature Algo"
   ]
  },
  {
   "cell_type": "code",
   "execution_count": 3,
   "id": "a4aac7c7",
   "metadata": {},
   "outputs": [
    {
     "name": "stdout",
     "output_type": "stream",
     "text": [
      "Private key: 0x63bd3b01c5ce749d87f5f7481232a93540acdb0f7b5c014ecd9cd32b041d6f33\n",
      "Public point (Uncompressed): 0x04017655e42a892cc71bccedcb1cd421d03530e1d7edb52cef143c5562c4c6f0129fa5a37738013e64a1ff0e6cb7068815a13000eb162cb7a0214dfcf3c8fa101c\n",
      "Signature: 0x30450221008879dff1cd6022b7bc36851aa8f1d5dfbfcf490e4adbb3eff093a10c69f5d73702206a105159024b224992df049a79b01dccd9b2e754ffcfda2f63c84ef713d0a5b1\n",
      "Verification OK\n"
     ]
    }
   ],
   "source": [
    "from cryptography.hazmat.backends import default_backend\n",
    "from cryptography.hazmat.primitives import hashes, serialization\n",
    "from cryptography.hazmat.primitives.asymmetric import ec\n",
    "from cryptography.exceptions import InvalidSignature\n",
    "\n",
    "\n",
    "private_value = 0x63bd3b01c5ce749d87f5f7481232a93540acdb0f7b5c014ecd9cd32b041d6f33\n",
    "curve = ec.SECP256R1()\n",
    "signature_algorithm = ec.ECDSA(hashes.SHA256())\n",
    "\n",
    "# Make private and public keys from the private value + curve\n",
    "priv_key = ec.derive_private_key(private_value, curve, default_backend())\n",
    "pub_key = priv_key.public_key()\n",
    "print('Private key: 0x%x' % priv_key.private_numbers().private_value)\n",
    "print('Public point (Uncompressed): 0x%s' % pub_key.public_bytes(serialization.Encoding.X962, serialization.PublicFormat.UncompressedPoint).hex())\n",
    "\n",
    "# Sign some data\n",
    "data = b\"this is some data to sign\"\n",
    "signature = priv_key.sign(data, signature_algorithm)\n",
    "print('Signature: 0x%s' % signature.hex())\n",
    "\n",
    "# Verify\n",
    "try:\n",
    "    pub_key.verify(signature, data, signature_algorithm)\n",
    "    print('Verification OK')\n",
    "except InvalidSignature:\n",
    "    print('Verification failed')"
   ]
  },
  {
   "cell_type": "markdown",
   "id": "a69e883a",
   "metadata": {},
   "source": [
    "# Integration of ECDSA and ECC Diffe Hellman"
   ]
  },
  {
   "cell_type": "code",
   "execution_count": 4,
   "id": "787c69d6",
   "metadata": {},
   "outputs": [
    {
     "name": "stdout",
     "output_type": "stream",
     "text": [
      "Private key of Alice: 0x63bd3b01c5ce749d87f5f7481232a93540acdb0f7b5c014ecd9cd32b041d6f33\n",
      "Public point of Alice (Uncompressed): 0x04017655e42a892cc71bccedcb1cd421d03530e1d7edb52cef143c5562c4c6f0129fa5a37738013e64a1ff0e6cb7068815a13000eb162cb7a0214dfcf3c8fa101c\n",
      "Private key of Bob: 0xef235aacf90d9f4aadd8c92e4b2562e1d9eb97f0df9ba3b508258739cb013db2\n",
      "Public point of Bob (Uncompressed): 0x0482f94f8cc1592cfd3df5ae015a15b8bd70d35716df42bd6f10edcf251c7b55250c44b239c35c60a0ba2cb6dc70e059a4ec869bb00390abf0de1fdb0c4c7dc00b\n",
      "Signature: 0x3046022100cd54356973c395e203d62493a37c650d0fd26fb5b94fd41a2558d937709d72af022100c56313e6099503f0f870bd50a9c704aa867f4492702790b995b575457e59dd30\n",
      "Verification OK\n",
      "Verification failed\n"
     ]
    }
   ],
   "source": [
    "from cryptography.hazmat.backends import default_backend\n",
    "from cryptography.hazmat.primitives import hashes, serialization\n",
    "from cryptography.hazmat.primitives.asymmetric import ec\n",
    "from cryptography.exceptions import InvalidSignature\n",
    "from random import randint\n",
    "\n",
    "\n",
    "# Alice will choose the private key a\n",
    "private_value_a = 0x63bd3b01c5ce749d87f5f7481232a93540acdb0f7b5c014ecd9cd32b041d6f33\n",
    "    \n",
    "# Bob will choose the private key b\n",
    "private_value_b = 0xef235aacf90d9f4aadd8c92e4b2562e1d9eb97f0df9ba3b508258739cb013db2\n",
    "    \n",
    "# Elliptic Curve\n",
    "curve = ec.SECP256R1()\n",
    "    \n",
    "# Algoritim for checking digital signature\n",
    "signature_algorithm = ec.ECDSA(hashes.SHA256())\n",
    "    \n",
    "    \n",
    "# Make private and public keys from the private value + curve\n",
    "priv_key_a = ec.derive_private_key(private_value_a, curve, default_backend())\n",
    "pub_key_a = priv_key_a.public_key()\n",
    "print('Private key of Alice: 0x%x' % priv_key_a.private_numbers().private_value)\n",
    "print('Public point of Alice (Uncompressed): 0x%s' % pub_key_a.public_bytes(serialization.Encoding.X962, serialization.PublicFormat.UncompressedPoint).hex())\n",
    "\n",
    "\n",
    "# Make private and public keys from the private value + curve\n",
    "priv_key_b = ec.derive_private_key(private_value_b, curve, default_backend())\n",
    "pub_key_b = priv_key_b.public_key()\n",
    "print('Private key of Bob: 0x%x' % priv_key_b.private_numbers().private_value)\n",
    "print('Public point of Bob (Uncompressed): 0x%s' % pub_key_b.public_bytes(serialization.Encoding.X962, serialization.PublicFormat.UncompressedPoint).hex())\n",
    "\n",
    "    \n",
    "# Sign some data\n",
    "data = b\"I am Alice\"\n",
    "signature = priv_key_a.sign(data, signature_algorithm)\n",
    "print('Signature: 0x%s' % signature.hex())\n",
    "    \n",
    "# Verify\n",
    "try:\n",
    "    pub_key_a.verify(signature, data, signature_algorithm)\n",
    "    print('Verification OK')\n",
    "except InvalidSignature:\n",
    "    print('Verification failed')\n",
    "        \n",
    "# Verify\n",
    "try:\n",
    "    pub_key_b.verify(signature, data, signature_algorithm)\n",
    "    print('Verification OK')\n",
    "except InvalidSignature:\n",
    "    print('Verification failed')"
   ]
  },
  {
   "cell_type": "code",
   "execution_count": null,
   "id": "80bc083a",
   "metadata": {},
   "outputs": [],
   "source": []
  }
 ],
 "metadata": {
  "kernelspec": {
   "display_name": "Python 3 (ipykernel)",
   "language": "python",
   "name": "python3"
  },
  "language_info": {
   "codemirror_mode": {
    "name": "ipython",
    "version": 3
   },
   "file_extension": ".py",
   "mimetype": "text/x-python",
   "name": "python",
   "nbconvert_exporter": "python",
   "pygments_lexer": "ipython3",
   "version": "3.9.4"
  }
 },
 "nbformat": 4,
 "nbformat_minor": 5
}
